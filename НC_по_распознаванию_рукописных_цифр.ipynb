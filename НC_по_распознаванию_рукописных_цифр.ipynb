{
  "nbformat": 4,
  "nbformat_minor": 0,
  "metadata": {
    "colab": {
      "provenance": [],
      "toc_visible": true,
      "mount_file_id": "1GWmORl-gNafJeu5EybQIog5xDwaMxZsC",
      "authorship_tag": "ABX9TyNhrSDGZn5dZwlsavFgkUQR",
      "include_colab_link": true
    },
    "kernelspec": {
      "name": "python3",
      "display_name": "Python 3"
    },
    "language_info": {
      "name": "python"
    }
  },
  "cells": [
    {
      "cell_type": "markdown",
      "metadata": {
        "id": "view-in-github",
        "colab_type": "text"
      },
      "source": [
        "<a href=\"https://colab.research.google.com/github/Lova595/Neural-networks/blob/main/%D0%9DC_%D0%BF%D0%BE_%D1%80%D0%B0%D1%81%D0%BF%D0%BE%D0%B7%D0%BD%D0%B0%D0%B2%D0%B0%D0%BD%D0%B8%D1%8E_%D1%80%D1%83%D0%BA%D0%BE%D0%BF%D0%B8%D1%81%D0%BD%D1%8B%D1%85_%D1%86%D0%B8%D1%84%D1%80.ipynb\" target=\"_parent\"><img src=\"https://colab.research.google.com/assets/colab-badge.svg\" alt=\"Open In Colab\"/></a>"
      ]
    },
    {
      "cell_type": "markdown",
      "source": [
        "\n",
        "\n",
        "Распознайте рукописную цифру, созданную вами с помощью графического редактора (например, Paint).\n",
        "\n",
        "Последовательность шагов:\n",
        "1. В графическом редакторе рисуем произвольную цифру.\n",
        "2. Сохраняем документ и загружаем его в Colaboratory.\n",
        "3. С помощью функции image.load_img(path, target_size=(28, 28), color_mode = ‘grayscale’) загружаем картинку в переменную.\n",
        "4. С помощью функции image.img_to_array(img) преобразуем изображение в numpy-массив.\n",
        "5. Выполняем инверсию цветов, нормирование и решейп массива.\n",
        "6. Выполняем распознавание собственной рукописной цифры."
      ],
      "metadata": {
        "id": "OEsFiyQaaYX1"
      }
    },
    {
      "cell_type": "markdown",
      "source": [
        "**Это нейросеть с использованием сверточной сети (CNN) для классификации изображений**\n",
        "\n",
        "---\n",
        "\n",
        "Мы имеем датасет изображений рукописных цифр, состоящий из множества изображений, и хотим обучить модель классифицировать каждое изображение на несколько классов: каждую цифру от 0 до 9.\n",
        "\n",
        "Для начала, мы должны преобразовать наши изображения в числовой формат. Для этого мы будем использовать технику векторизации изображений, где каждый пиксель изображения представляется как число от 0 до 255.\n",
        "\n",
        "Затем мы построим CNN с несколькими сверточными слоями. Каждый сверточный слой будет применять набор фильтров к каждой части изображения и выдавать карты признаков. Мы используем эти карты признаков для извлечения более абстрактных признаков из изображения.\n",
        "\n",
        "Затем мы добавим полносвязный слой на выходе, который будет принимать карты признаков и выдавать вероятности для каждого класса в качестве предсказания.\n",
        "\n",
        "В процессе обучения, модель будет минимизировать функцию потерь (кросс-энтропия) между предсказанными и фактическими вероятностями.\n",
        "\n",
        "В результате, мы используем обученную модель для классификации новых изображений. Модель будет принимать на вход изображение и выдавать вероятности для каждого класса. Мы можем выбрать класс с наибольшей вероятностью в качестве предсказания для данного изображения.\n",
        "\n"
      ],
      "metadata": {
        "id": "JRylHhIFnTDy"
      }
    },
    {
      "cell_type": "markdown",
      "source": [
        "# Распознавание рукописных цифр MNIST"
      ],
      "metadata": {
        "id": "ZuF_RFw7asWM"
      }
    },
    {
      "cell_type": "code",
      "execution_count": 1,
      "metadata": {
        "id": "infb8ExnW1R-"
      },
      "outputs": [],
      "source": [
        "# @title Подключаем библиотеки\n",
        "\n",
        "import tensorflow as tf\n",
        "from tensorflow.keras.datasets import mnist #Библиотека с базой Mnist\n",
        "from tensorflow.keras.models import Sequential # Подлючаем класс создания модели Sequential\n",
        "from tensorflow.keras.layers import Dense # Подключаем класс Dense - полносвязный слой\n",
        "from tensorflow.keras.optimizers import Adam # Подключаем оптимизатор Adam\n",
        "from tensorflow.keras import utils #Утилиты для to_categorical\n",
        "from tensorflow.keras.preprocessing import image #Для отрисовки изображения\n",
        "import numpy as np # Подключаем библиотеку numpy\n",
        "import pylab # Модуль для построения графиков\n",
        "from mpl_toolkits.mplot3d import Axes3D # Модуль для трехмерной графики\n",
        "from google.colab import files #Для загрузки своей картинки\n",
        "import matplotlib.pyplot as plt #Отрисовка изображений\n",
        "from PIL import Image #Отрисовка изображений\n",
        "import PIL.ImageOps\n",
        "\n",
        "#Отрисовывать изображения в ноутбуке, а не в консоль или файл\n",
        "%matplotlib inline"
      ]
    },
    {
      "cell_type": "code",
      "source": [
        "# @title Загружаем свой рисунок в переменную и открываем его на графике\n",
        "\n",
        "# подгружаем google-диск\n",
        "from google.colab import drive\n",
        "drive.mount('/content/drive/')"
      ],
      "metadata": {
        "colab": {
          "base_uri": "https://localhost:8080/"
        },
        "id": "_gl6Zj9GCJRR",
        "outputId": "cf50bbf4-1c25-4818-c034-8f1c549e9034"
      },
      "execution_count": 2,
      "outputs": [
        {
          "output_type": "stream",
          "name": "stdout",
          "text": [
            "Drive already mounted at /content/drive/; to attempt to forcibly remount, call drive.mount(\"/content/drive/\", force_remount=True).\n"
          ]
        }
      ]
    },
    {
      "cell_type": "code",
      "source": [
        "# с помощью функции image.load_img загружаем картинку в переменную\n",
        "numeral = tf.keras.preprocessing.image.load_img('/content/drive/MyDrive/IMG_2713.jpeg',\n",
        "                                                target_size=(28,28), color_mode='grayscale')"
      ],
      "metadata": {
        "id": "IP5w1DBsC8JM"
      },
      "execution_count": 40,
      "outputs": []
    },
    {
      "cell_type": "code",
      "source": [
        "# инвертируем картинку\n",
        "numeral = PIL.ImageOps.invert(numeral)\n",
        "plt.imshow(numeral)"
      ],
      "metadata": {
        "colab": {
          "base_uri": "https://localhost:8080/",
          "height": 447
        },
        "id": "eh1twAWNHi9c",
        "outputId": "1a1d4434-c4fe-46d9-e292-31214f4d7b36"
      },
      "execution_count": 41,
      "outputs": [
        {
          "output_type": "execute_result",
          "data": {
            "text/plain": [
              "<matplotlib.image.AxesImage at 0x7c0a9bd3ca90>"
            ]
          },
          "metadata": {},
          "execution_count": 41
        },
        {
          "output_type": "display_data",
          "data": {
            "text/plain": [
              "<Figure size 640x480 with 1 Axes>"
            ],
            "image/png": "[encoded data removed]"
          },
          "metadata": {}
        }
      ]
    },
    {
      "cell_type": "code",
      "source": [
        "num_1 = tf.keras.preprocessing.image.img_to_array(numeral) # переводим картинку в массив numpy\n",
        "num_1 = np.reshape(num_1, ((28,28))) # после преобразования в массив, делаем решейп в 28х28"
      ],
      "metadata": {
        "id": "Lia_IUV7I1Dt"
      },
      "execution_count": 42,
      "outputs": []
    },
    {
      "cell_type": "code",
      "source": [
        "# выполним инверсию цветов\n",
        "plt.imshow(Image.fromarray(num_1).convert('RGB'))\n",
        "plt.show()\n",
        "print('Светлый цвет: ', np.max(num_1))"
      ],
      "metadata": {
        "colab": {
          "base_uri": "https://localhost:8080/",
          "height": 447
        },
        "id": "zQbR0MtoKgwN",
        "outputId": "bc24739e-7769-497b-e9d2-b10d8d2f164a"
      },
      "execution_count": 43,
      "outputs": [
        {
          "output_type": "display_data",
          "data": {
            "text/plain": [
              "<Figure size 640x480 with 1 Axes>"
            ],
            "image/png": "[encoded data removed]"
          },
          "metadata": {}
        },
        {
          "output_type": "stream",
          "name": "stdout",
          "text": [
            "Светлый цвет:  219.0\n"
          ]
        }
      ]
    },
    {
      "cell_type": "code",
      "source": [
        "# преобразуем изображение в ЧБ\n",
        "for i in range(28):\n",
        "  for j in range(28):\n",
        "    if num_1[i,j] < 102:\n",
        "      num_1[i,j] = 0\n",
        "    if num_1[i,j] >= 103:\n",
        "      num_1[i,j] = 255\n",
        "  num_2 = num_1"
      ],
      "metadata": {
        "id": "96vM5zrWLI5E"
      },
      "execution_count": 60,
      "outputs": []
    },
    {
      "cell_type": "code",
      "source": [
        "# выполним инверсию цветов\n",
        "plt.imshow(Image.fromarray(num_2).convert('RGB'))\n",
        "plt.show()"
      ],
      "metadata": {
        "colab": {
          "base_uri": "https://localhost:8080/",
          "height": 430
        },
        "id": "0Aue8Np4MMeV",
        "outputId": "e24d953d-6dc5-4aff-dbf2-b0adcee9c6c3"
      },
      "execution_count": 61,
      "outputs": [
        {
          "output_type": "display_data",
          "data": {
            "text/plain": [
              "<Figure size 640x480 with 1 Axes>"
            ],
            "image/png": "[encoded data removed]"
          },
          "metadata": {}
        }
      ]
    },
    {
      "cell_type": "code",
      "source": [
        "# нормируем и делаем решейп массива\n",
        "num_2 = num_2.reshape(784,)\n",
        "print(num_2.shape)\n",
        "num2 = num_2.astype('float32') # преобразовываем arr в тип float\n",
        "num_2 = num_2/255 # делим на 255, чтобы диапазон был от 0 до 1"
      ],
      "metadata": {
        "colab": {
          "base_uri": "https://localhost:8080/"
        },
        "id": "mqKDiAdrNYZ6",
        "outputId": "2550b07a-3d2a-4a38-e6cc-514ee26b4208"
      },
      "execution_count": 62,
      "outputs": [
        {
          "output_type": "stream",
          "name": "stdout",
          "text": [
            "(784,)\n"
          ]
        }
      ]
    },
    {
      "cell_type": "code",
      "source": [
        "# @title Создадим нейронную сеть на базе MNIST и обучим\n",
        "(x_train_org, y_train_org), (x_test_org, y_test_org) = mnist.load_data() # загрузка базы MNIST"
      ],
      "metadata": {
        "id": "MS_mOwvPONKd"
      },
      "execution_count": 69,
      "outputs": []
    },
    {
      "cell_type": "code",
      "source": [
        "# Нормирование и преобразование x_train и y_train.\n",
        "# Меняем формат входных картинок с 28х28 на 784х1\n",
        "x_train = x_train_org. reshape(60000,784)\n",
        "x_test = x_test_org.reshape(10000,784)\n",
        "# Нормализуем входные картинки\n",
        "x_train = x_train.astype('float32') # преобразовываем x_train в тип float (цифры с плавающей точкой)\n",
        "x_train = x_train / 255 # делим на 255, чтобы диапазон был от 0 до 1\n",
        "x_test = x_test.astype('float32') # преобразовываем x_test в тип float\n",
        "x_test = x_test / 255 # делим на 255, чтобы диапазон был от 0 до 1"
      ],
      "metadata": {
        "id": "n1UlJR8fOqXp"
      },
      "execution_count": 70,
      "outputs": []
    },
    {
      "cell_type": "code",
      "source": [
        "# Преобразуем ответы в формат one_hot_encoding\n",
        "y_train = utils.to_categorical(y_train_org, 10)\n",
        "y_test = utils.to_categorical(y_test_org, 10)"
      ],
      "metadata": {
        "id": "B5KdpP8dPD88"
      },
      "execution_count": 71,
      "outputs": []
    },
    {
      "cell_type": "code",
      "source": [
        "# создаем полносвязную сеть\n",
        "model = Sequential()\n",
        "model.add(Dense(800, input_dim = 784, activation = 'relu'))\n",
        "model.add(Dense(400, activation = 'relu'))\n",
        "model.add(Dense(10, activation = 'softmax'))"
      ],
      "metadata": {
        "id": "Z7SFbuyYTJ1j"
      },
      "execution_count": 72,
      "outputs": []
    },
    {
      "cell_type": "code",
      "source": [
        "# компиллируем модель\n",
        "model.compile(loss='categorical_crossentropy', optimizer='adam', metrics=['accuracy'])\n",
        "print(model.summary()) # выведем структуру модели"
      ],
      "metadata": {
        "colab": {
          "base_uri": "https://localhost:8080/"
        },
        "id": "XafsZj3kT-J0",
        "outputId": "8b3ec51a-f87d-4bc0-e73d-eed9947f796c"
      },
      "execution_count": 73,
      "outputs": [
        {
          "output_type": "stream",
          "name": "stdout",
          "text": [
            "Model: \"sequential\"\n",
            "_________________________________________________________________\n",
            " Layer (type)                Output Shape              Param #   \n",
            "=================================================================\n",
            " dense (Dense)               (None, 800)               628000    \n",
            "                                                                 \n",
            " dense_1 (Dense)             (None, 400)               320400    \n",
            "                                                                 \n",
            " dense_2 (Dense)             (None, 10)                4010      \n",
            "                                                                 \n",
            "=================================================================\n",
            "Total params: 952410 (3.63 MB)\n",
            "Trainable params: 952410 (3.63 MB)\n",
            "Non-trainable params: 0 (0.00 Byte)\n",
            "_________________________________________________________________\n",
            "None\n"
          ]
        }
      ]
    },
    {
      "cell_type": "code",
      "source": [
        "# обучение НС\n",
        "model.fit(x_train, y_train,\n",
        "          batch_size=128,\n",
        "          epochs=15,\n",
        "          verbose=1)"
      ],
      "metadata": {
        "colab": {
          "base_uri": "https://localhost:8080/"
        },
        "id": "cO1bnUWsUheK",
        "outputId": "7edd6267-63d2-4f81-ee4b-4a7df2b7c9bf"
      },
      "execution_count": 74,
      "outputs": [
        {
          "output_type": "stream",
          "name": "stdout",
          "text": [
            "Epoch 1/15\n",
            "469/469 [==============================] - 16s 31ms/step - loss: 0.2050 - accuracy: 0.9388\n",
            "Epoch 2/15\n",
            "469/469 [==============================] - 18s 38ms/step - loss: 0.0756 - accuracy: 0.9765\n",
            "Epoch 3/15\n",
            "469/469 [==============================] - 17s 37ms/step - loss: 0.0474 - accuracy: 0.9847\n",
            "Epoch 4/15\n",
            "469/469 [==============================] - 20s 43ms/step - loss: 0.0345 - accuracy: 0.9888\n",
            "Epoch 5/15\n",
            "469/469 [==============================] - 14s 30ms/step - loss: 0.0256 - accuracy: 0.9915\n",
            "Epoch 6/15\n",
            "469/469 [==============================] - 18s 38ms/step - loss: 0.0190 - accuracy: 0.9938\n",
            "Epoch 7/15\n",
            "469/469 [==============================] - 14s 30ms/step - loss: 0.0192 - accuracy: 0.9934\n",
            "Epoch 8/15\n",
            "469/469 [==============================] - 15s 33ms/step - loss: 0.0159 - accuracy: 0.9946\n",
            "Epoch 9/15\n",
            "469/469 [==============================] - 19s 41ms/step - loss: 0.0160 - accuracy: 0.9946\n",
            "Epoch 10/15\n",
            "469/469 [==============================] - 21s 46ms/step - loss: 0.0132 - accuracy: 0.9955\n",
            "Epoch 11/15\n",
            "469/469 [==============================] - 18s 39ms/step - loss: 0.0133 - accuracy: 0.9958\n",
            "Epoch 12/15\n",
            "469/469 [==============================] - 13s 28ms/step - loss: 0.0088 - accuracy: 0.9973\n",
            "Epoch 13/15\n",
            "469/469 [==============================] - 14s 29ms/step - loss: 0.0093 - accuracy: 0.9967\n",
            "Epoch 14/15\n",
            "469/469 [==============================] - 15s 33ms/step - loss: 0.0103 - accuracy: 0.9964\n",
            "Epoch 15/15\n",
            "469/469 [==============================] - 15s 33ms/step - loss: 0.0074 - accuracy: 0.9977\n"
          ]
        },
        {
          "output_type": "execute_result",
          "data": {
            "text/plain": [
              "<keras.src.callbacks.History at 0x7c0a9ccb0dc0>"
            ]
          },
          "metadata": {},
          "execution_count": 74
        }
      ]
    },
    {
      "cell_type": "code",
      "source": [
        "model.save_weights('model.h1')\n",
        "model.load_weights('model.h1')"
      ],
      "metadata": {
        "colab": {
          "base_uri": "https://localhost:8080/"
        },
        "id": "Ukud_J6KU-UY",
        "outputId": "75988f55-d38f-490f-f24d-876e250e5e7c"
      },
      "execution_count": 75,
      "outputs": [
        {
          "output_type": "execute_result",
          "data": {
            "text/plain": [
              "<tensorflow.python.checkpoint.checkpoint.CheckpointLoadStatus at 0x7c0a9ce0e0e0>"
            ]
          },
          "metadata": {},
          "execution_count": 75
        }
      ]
    },
    {
      "cell_type": "code",
      "source": [
        "n_rec = num_2 #создадим переменную нашей новой тестовой цифры, которую будем распознавать\n",
        "n_rec = np.expand_dims(n_rec, axis=0)\n",
        "print(n_rec.shape)"
      ],
      "metadata": {
        "colab": {
          "base_uri": "https://localhost:8080/"
        },
        "id": "FooENHRqVPrB",
        "outputId": "675c1d6d-8785-46a0-a78f-3407d97ba53f"
      },
      "execution_count": 76,
      "outputs": [
        {
          "output_type": "stream",
          "name": "stdout",
          "text": [
            "(1, 784)\n"
          ]
        }
      ]
    },
    {
      "cell_type": "code",
      "source": [
        "# @title Распознаем наш пример\n",
        "prediction = model.predict(n_rec)\n",
        "print(prediction) #Выводим результат, это 10 цифр"
      ],
      "metadata": {
        "colab": {
          "base_uri": "https://localhost:8080/"
        },
        "id": "51fyreH1JLXj",
        "outputId": "fe974e74-a06e-4087-ce9c-3b92c1a2967e"
      },
      "execution_count": 77,
      "outputs": [
        {
          "output_type": "stream",
          "name": "stdout",
          "text": [
            "1/1 [==============================] - 0s 95ms/step\n",
            "[[3.5264762e-04 7.5767210e-05 3.5733503e-06 3.9983403e-05 6.5799016e-01\n",
            "  2.9087437e-02 1.4276268e-01 1.4122778e-01 9.4069310e-06 2.8450612e-02]]\n"
          ]
        }
      ]
    },
    {
      "cell_type": "code",
      "source": [
        "sum(prediction[0])"
      ],
      "metadata": {
        "colab": {
          "base_uri": "https://localhost:8080/"
        },
        "id": "9us4uvO4WArj",
        "outputId": "74ff841e-3a23-436e-c78f-72abb832c48a"
      },
      "execution_count": 78,
      "outputs": [
        {
          "output_type": "execute_result",
          "data": {
            "text/plain": [
              "1.0000000430684395"
            ]
          },
          "metadata": {},
          "execution_count": 78
        }
      ]
    },
    {
      "cell_type": "code",
      "source": [
        "pred = np.argmax(prediction) # Получаем индекс самого большого элемента (это итоговая цифра, которую распознала сеть)\n",
        "print('цифра на картинке: ', pred)"
      ],
      "metadata": {
        "colab": {
          "base_uri": "https://localhost:8080/"
        },
        "id": "G71lqXetWMvX",
        "outputId": "327f8c3d-e551-4624-b691-faeb5fb65b0c"
      },
      "execution_count": 79,
      "outputs": [
        {
          "output_type": "stream",
          "name": "stdout",
          "text": [
            "цифра на картинке:  4\n"
          ]
        }
      ]
    }
  ]
}